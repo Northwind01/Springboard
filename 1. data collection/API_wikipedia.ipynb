{
 "cells": [
  {
   "cell_type": "markdown",
   "metadata": {},
   "source": [
    "# APIs"
   ]
  },
  {
   "cell_type": "markdown",
   "metadata": {},
   "source": [
    "## Wikipedia"
   ]
  },
  {
   "cell_type": "markdown",
   "metadata": {},
   "source": [
    "https://medium.com/@Alexander_H/scraping-wikipedia-with-python-8000fc9c9e6c\n",
    "\n",
    "https://wikipedia.readthedocs.io/en/latest/code.html"
   ]
  },
  {
   "cell_type": "code",
   "execution_count": 28,
   "metadata": {},
   "outputs": [],
   "source": [
    "import wikipedia as wiki\n",
    "import pandas as pd"
   ]
  },
  {
   "cell_type": "code",
   "execution_count": 15,
   "metadata": {},
   "outputs": [
    {
     "data": {
      "text/plain": [
       "['Sense',\n",
       " 'Sense-for-sense translation',\n",
       " 'The Sixth Sense',\n",
       " 'Research School for Socio-Economic and Natural Sciences of the Environment',\n",
       " 'Common sense',\n",
       " 'Spider-Man',\n",
       " 'Sensing',\n",
       " 'Sense (molecular biology)',\n",
       " 'Common Sense (pamphlet)',\n",
       " 'Sense and Sensibility (disambiguation)']"
      ]
     },
     "execution_count": 15,
     "metadata": {},
     "output_type": "execute_result"
    }
   ],
   "source": [
    "search = wiki.search('sense')\n",
    "search"
   ]
  },
  {
   "cell_type": "code",
   "execution_count": 13,
   "metadata": {},
   "outputs": [
    {
     "data": {
      "text/plain": [
       "'A sense is a physiological capacity of organisms that provides data for perception. The senses and their operation, classification, and theory are overlapping topics studied by a variety of fields, most notably neuroscience, cognitive psychology (or cognitive science), and philosophy of perception. The nervous system has a specific sensory nervous system, and a sense organ, or sensor, dedicated to each sense.\\nHumans have a multitude of sensors. Sight (vision), hearing (audition), taste (gustation), smell (olfaction), and touch (somatosensation) are the five traditionally recognized senses. The ability to detect other stimuli beyond those governed by these most broadly recognized senses also exists, and these sensory modalities include temperature (thermoception), kinesthetic sense (proprioception), pain (nociception), balance (equilibrioception), vibration (mechanoreception), and various internal stimuli (e.g. the different chemoreceptors for detecting salt and carbon dioxide concentrations in the blood, or sense of hunger and sense of thirst). However, what constitutes a sense is a matter of some debate, leading to difficulties in defining what exactly a distinct sense is, and where the borders lie between responses to related stimuli.\\nOther animals also have receptors to sense the world around them, with degrees of capability varying greatly between species. Humans have a comparatively weak sense of smell and a stronger sense of sight relative to many other mammals while some animals may lack one or more of the traditional five senses. Some animals may also intake and interpret sensory stimuli in very different ways. Some species of animals are able to sense the world in a way that humans cannot, with some species able to sense electrical and magnetic fields, and detect water pressure and currents.'"
      ]
     },
     "execution_count": 13,
     "metadata": {},
     "output_type": "execute_result"
    }
   ],
   "source": [
    "wiki.summary(search[0])"
   ]
  },
  {
   "cell_type": "code",
   "execution_count": 27,
   "metadata": {},
   "outputs": [
    {
     "data": {
      "text/plain": [
       "['1 Corinthians 7',\n",
       " 'Nikos Papatakis',\n",
       " 'Gasometer, Vienna',\n",
       " 'Simon Bailey (police officer)',\n",
       " 'Art Lund']"
      ]
     },
     "execution_count": 27,
     "metadata": {},
     "output_type": "execute_result"
    }
   ],
   "source": [
    "wiki.random(5)"
   ]
  },
  {
   "cell_type": "code",
   "execution_count": 17,
   "metadata": {},
   "outputs": [
    {
     "data": {
      "text/plain": [
       "'A sense is a physiological capacity of organisms that provides data for perception. The senses and their operation, classification, and theory are overlapping topics studied by a variety of fields, most notably neuroscience, cognitive psychology (or cognitive science), and philosophy of perception. The nervous system has a specific sensory nervous system, and a sense organ, or sensor, dedicated to each sense.\\nHumans have a multitude of sensors. Sight (vision), hearing (audition), taste (gustation), smell (olfaction), and touch (somatosensation) are the five traditionally recognized senses. The ability to detect other stimuli beyond those governed by these most broadly recognized senses also exists, and these sensory modalities include temperature (thermoception), kinesthetic sense (proprioception), pain (nociception), balance (equilibrioception), vibration (mechanoreception), and various internal stimuli (e.g. the different chemoreceptors for detecting salt and carbon dioxide concentrations in the blood, or sense of hunger and sense of thirst). However, what constitutes a sense is a matter of some debate, leading to difficulties in defining what exactly a distinct sense is, and where the borders lie between responses to related stimuli.\\nOther animals also have receptors to sense the world around them, with degrees of capability varying greatly between species. Humans have a comparatively weak sense of smell and a stronger sense of sight relative to many other mammals while some animals may lack one or more of the traditional five senses. Some animals may also intake and interpret sensory stimuli in very different ways. Some species of animals are able to sense the world in a way that humans cannot, with some species able to sense electrical and magnetic fields, and detect water pressure and currents.'"
      ]
     },
     "execution_count": 17,
     "metadata": {},
     "output_type": "execute_result"
    }
   ],
   "source": [
    "page = wiki.WikipediaPage(title = 'Sense')\n",
    "page.summary"
   ]
  },
  {
   "cell_type": "code",
   "execution_count": 30,
   "metadata": {
    "scrolled": true
   },
   "outputs": [
    {
     "data": {
      "text/plain": [
       "'Sense'"
      ]
     },
     "execution_count": 30,
     "metadata": {},
     "output_type": "execute_result"
    }
   ],
   "source": [
    "page.categories\n",
    "#page.coordinates\n",
    "page.section('Contents')\n",
    "page.content\n",
    "page.title"
   ]
  },
  {
   "cell_type": "code",
   "execution_count": 26,
   "metadata": {},
   "outputs": [
    {
     "name": "stdout",
     "output_type": "stream",
     "text": [
      "page.summary\n",
      "page.categories\n",
      "page.content\n",
      "page.coordinates\n",
      "page.links\n",
      "page.sections\n"
     ]
    }
   ],
   "source": [
    "target_data = ['title', 'url', 'summary', 'categories', 'content', 'coordinates', 'links', 'sections']\n",
    "for i in target_data:\n",
    "    print('page.'+i)"
   ]
  },
  {
   "cell_type": "code",
   "execution_count": 32,
   "metadata": {},
   "outputs": [],
   "source": [
    "df = pd.DataFrame(columns=['title', 'url', 'summary', 'categories', 'content', 'coordinates', 'links', 'sections'])"
   ]
  },
  {
   "cell_type": "code",
   "execution_count": 34,
   "metadata": {},
   "outputs": [],
   "source": [
    "df.loc[0] = pd.Series({'title':page.title, 'url':page.url, 'summary':page.summary, 'categories':page.categories, 'content':page.content, 'links':page.links, 'sections':page.sections})"
   ]
  },
  {
   "cell_type": "code",
   "execution_count": 35,
   "metadata": {},
   "outputs": [
    {
     "data": {
      "text/html": [
       "<div>\n",
       "<style scoped>\n",
       "    .dataframe tbody tr th:only-of-type {\n",
       "        vertical-align: middle;\n",
       "    }\n",
       "\n",
       "    .dataframe tbody tr th {\n",
       "        vertical-align: top;\n",
       "    }\n",
       "\n",
       "    .dataframe thead th {\n",
       "        text-align: right;\n",
       "    }\n",
       "</style>\n",
       "<table border=\"1\" class=\"dataframe\">\n",
       "  <thead>\n",
       "    <tr style=\"text-align: right;\">\n",
       "      <th></th>\n",
       "      <th>title</th>\n",
       "      <th>url</th>\n",
       "      <th>summary</th>\n",
       "      <th>categories</th>\n",
       "      <th>content</th>\n",
       "      <th>coordinates</th>\n",
       "      <th>links</th>\n",
       "      <th>sections</th>\n",
       "    </tr>\n",
       "  </thead>\n",
       "  <tbody>\n",
       "    <tr>\n",
       "      <th>0</th>\n",
       "      <td>Sense</td>\n",
       "      <td>https://en.wikipedia.org/wiki/Sense</td>\n",
       "      <td>A sense is a physiological capacity of organis...</td>\n",
       "      <td>[All articles needing additional references, A...</td>\n",
       "      <td>A sense is a physiological capacity of organis...</td>\n",
       "      <td>NaN</td>\n",
       "      <td>[Acid reflux, Action potential, Aesthesis, Age...</td>\n",
       "      <td>[]</td>\n",
       "    </tr>\n",
       "  </tbody>\n",
       "</table>\n",
       "</div>"
      ],
      "text/plain": [
       "   title                                  url  \\\n",
       "0  Sense  https://en.wikipedia.org/wiki/Sense   \n",
       "\n",
       "                                             summary  \\\n",
       "0  A sense is a physiological capacity of organis...   \n",
       "\n",
       "                                          categories  \\\n",
       "0  [All articles needing additional references, A...   \n",
       "\n",
       "                                             content coordinates  \\\n",
       "0  A sense is a physiological capacity of organis...         NaN   \n",
       "\n",
       "                                               links sections  \n",
       "0  [Acid reflux, Action potential, Aesthesis, Age...       []  "
      ]
     },
     "execution_count": 35,
     "metadata": {},
     "output_type": "execute_result"
    }
   ],
   "source": [
    "df"
   ]
  },
  {
   "cell_type": "code",
   "execution_count": null,
   "metadata": {},
   "outputs": [],
   "source": []
  }
 ],
 "metadata": {
  "kernelspec": {
   "display_name": "Python 3",
   "language": "python",
   "name": "python3"
  },
  "language_info": {
   "codemirror_mode": {
    "name": "ipython",
    "version": 3
   },
   "file_extension": ".py",
   "mimetype": "text/x-python",
   "name": "python",
   "nbconvert_exporter": "python",
   "pygments_lexer": "ipython3",
   "version": "3.6.7"
  }
 },
 "nbformat": 4,
 "nbformat_minor": 2
}
